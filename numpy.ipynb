{
 "cells": [
  {
   "cell_type": "code",
   "execution_count": 1,
   "id": "bc0d74c3",
   "metadata": {},
   "outputs": [],
   "source": [
    "import numpy as np\n",
    "from numpy.random import randint as ri"
   ]
  },
  {
   "cell_type": "code",
   "execution_count": 2,
   "id": "940951c0",
   "metadata": {},
   "outputs": [
    {
     "data": {
      "text/plain": [
       "array([1, 2, 3])"
      ]
     },
     "execution_count": 2,
     "metadata": {},
     "output_type": "execute_result"
    }
   ],
   "source": [
    "np.array([1,2,3])"
   ]
  },
  {
   "cell_type": "code",
   "execution_count": 3,
   "id": "9657b1bf",
   "metadata": {},
   "outputs": [
    {
     "data": {
      "text/plain": [
       "dtype('int32')"
      ]
     },
     "execution_count": 3,
     "metadata": {},
     "output_type": "execute_result"
    }
   ],
   "source": [
    "a = np.array([[1,2],[3,4],[5,6]])\n",
    "a.dtype"
   ]
  },
  {
   "cell_type": "code",
   "execution_count": 4,
   "id": "e1e2bc0e",
   "metadata": {},
   "outputs": [
    {
     "data": {
      "text/plain": [
       "array([[1., 2.],\n",
       "       [3., 4.],\n",
       "       [5., 6.]])"
      ]
     },
     "execution_count": 4,
     "metadata": {},
     "output_type": "execute_result"
    }
   ],
   "source": [
    "# all data convert into float\n",
    "np.array(a,dtype=float)"
   ]
  },
  {
   "cell_type": "code",
   "execution_count": 5,
   "id": "aaff6fa1",
   "metadata": {},
   "outputs": [
    {
     "data": {
      "text/plain": [
       "array([[1., 2., 3.],\n",
       "       [4., 5., 6.],\n",
       "       [7., 8., 9.]])"
      ]
     },
     "execution_count": 5,
     "metadata": {},
     "output_type": "execute_result"
    }
   ],
   "source": [
    "#mat =  matrix\n",
    "np.array(np.mat('1 2 3; 4 5 6;7 8 9'),dtype=float)"
   ]
  },
  {
   "cell_type": "code",
   "execution_count": 6,
   "id": "a06a1314",
   "metadata": {},
   "outputs": [
    {
     "data": {
      "text/plain": [
       "array([1, 2])"
      ]
     },
     "execution_count": 6,
     "metadata": {},
     "output_type": "execute_result"
    }
   ],
   "source": [
    "a = [1,2]\n",
    "np.array(a)"
   ]
  },
  {
   "cell_type": "code",
   "execution_count": 7,
   "id": "4b2e8f07",
   "metadata": {},
   "outputs": [
    {
     "data": {
      "text/plain": [
       "array([1, 2])"
      ]
     },
     "execution_count": 7,
     "metadata": {},
     "output_type": "execute_result"
    }
   ],
   "source": [
    "b = np.asarray(a)\n",
    "b"
   ]
  },
  {
   "cell_type": "markdown",
   "id": "e95e5a9e",
   "metadata": {},
   "source": [
    "# Data Type"
   ]
  },
  {
   "cell_type": "code",
   "execution_count": 8,
   "id": "3f474cdf",
   "metadata": {},
   "outputs": [
    {
     "data": {
      "text/plain": [
       "numpy.ndarray"
      ]
     },
     "execution_count": 8,
     "metadata": {},
     "output_type": "execute_result"
    }
   ],
   "source": [
    "type(b)"
   ]
  },
  {
   "cell_type": "code",
   "execution_count": 9,
   "id": "28df24a3",
   "metadata": {},
   "outputs": [
    {
     "data": {
      "text/plain": [
       "2"
      ]
     },
     "execution_count": 9,
     "metadata": {},
     "output_type": "execute_result"
    }
   ],
   "source": [
    "b.size"
   ]
  },
  {
   "cell_type": "markdown",
   "id": "3c36c5e0",
   "metadata": {},
   "source": [
    "# arrange and linspace"
   ]
  },
  {
   "cell_type": "code",
   "execution_count": null,
   "id": "58f36128",
   "metadata": {},
   "outputs": [],
   "source": []
  },
  {
   "cell_type": "code",
   "execution_count": 10,
   "id": "2a598060",
   "metadata": {},
   "outputs": [
    {
     "data": {
      "text/plain": [
       "[1, 2, 3, 4, 5, 6, 7, 8, 9, 10, 11, 12, 13, 14]"
      ]
     },
     "execution_count": 10,
     "metadata": {},
     "output_type": "execute_result"
    }
   ],
   "source": [
    "list(range(1,15))"
   ]
  },
  {
   "cell_type": "code",
   "execution_count": 11,
   "id": "bce96cb6",
   "metadata": {},
   "outputs": [
    {
     "ename": "TypeError",
     "evalue": "'float' object cannot be interpreted as an integer",
     "output_type": "error",
     "traceback": [
      "\u001b[1;31m---------------------------------------------------------------------------\u001b[0m",
      "\u001b[1;31mTypeError\u001b[0m                                 Traceback (most recent call last)",
      "\u001b[1;32m<ipython-input-11-fc7294fa1858>\u001b[0m in \u001b[0;36m<module>\u001b[1;34m\u001b[0m\n\u001b[1;32m----> 1\u001b[1;33m \u001b[0mlist\u001b[0m\u001b[1;33m(\u001b[0m\u001b[0mrange\u001b[0m\u001b[1;33m(\u001b[0m\u001b[1;36m2.5\u001b[0m\u001b[1;33m,\u001b[0m\u001b[1;36m10.5\u001b[0m\u001b[1;33m)\u001b[0m\u001b[1;33m)\u001b[0m\u001b[1;31m#show error if use flot value\u001b[0m\u001b[1;33m\u001b[0m\u001b[1;33m\u001b[0m\u001b[0m\n\u001b[0m",
      "\u001b[1;31mTypeError\u001b[0m: 'float' object cannot be interpreted as an integer"
     ]
    }
   ],
   "source": [
    "list(range(2.5,10.5))#show error if use flot value"
   ]
  },
  {
   "cell_type": "code",
   "execution_count": null,
   "id": "ae720eb2",
   "metadata": {},
   "outputs": [],
   "source": [
    "np.arange(2.5,10.5)"
   ]
  },
  {
   "cell_type": "code",
   "execution_count": null,
   "id": "549dd384",
   "metadata": {},
   "outputs": [],
   "source": [
    "np.arange(1,10,2)"
   ]
  },
  {
   "cell_type": "code",
   "execution_count": 12,
   "id": "1c283042",
   "metadata": {},
   "outputs": [
    {
     "data": {
      "text/plain": [
       "array([10,  8,  6,  4,  2])"
      ]
     },
     "execution_count": 12,
     "metadata": {},
     "output_type": "execute_result"
    }
   ],
   "source": [
    "# reverse direction\n",
    "np.arange(10,0,-2)"
   ]
  },
  {
   "cell_type": "code",
   "execution_count": null,
   "id": "8c193a61",
   "metadata": {},
   "outputs": [],
   "source": []
  },
  {
   "cell_type": "code",
   "execution_count": 13,
   "id": "0628d442",
   "metadata": {},
   "outputs": [
    {
     "data": {
      "text/plain": [
       "array([10. , 17.5, 25. , 32.5, 40. ])"
      ]
     },
     "execution_count": 13,
     "metadata": {},
     "output_type": "execute_result"
    }
   ],
   "source": [
    "np.linspace(10,40,5)#(start,end,number of data i want)"
   ]
  },
  {
   "cell_type": "code",
   "execution_count": 14,
   "id": "812a7545",
   "metadata": {},
   "outputs": [
    {
     "data": {
      "text/plain": [
       "array([1. , 1.2, 1.4, 1.6, 1.8])"
      ]
     },
     "execution_count": 14,
     "metadata": {},
     "output_type": "execute_result"
    }
   ],
   "source": [
    "np.linspace(1,2,5,endpoint=False)"
   ]
  },
  {
   "cell_type": "markdown",
   "id": "fcb285a9",
   "metadata": {},
   "source": [
    "# Matrix creation"
   ]
  },
  {
   "cell_type": "code",
   "execution_count": 15,
   "id": "2ba9c05a",
   "metadata": {},
   "outputs": [
    {
     "data": {
      "text/plain": [
       "array([0., 0., 0., 0., 0.])"
      ]
     },
     "execution_count": 15,
     "metadata": {},
     "output_type": "execute_result"
    }
   ],
   "source": [
    "np.zeros(5)"
   ]
  },
  {
   "cell_type": "code",
   "execution_count": 16,
   "id": "af762fe5",
   "metadata": {},
   "outputs": [
    {
     "data": {
      "text/plain": [
       "array([[0., 0., 0., 0., 0.],\n",
       "       [0., 0., 0., 0., 0.],\n",
       "       [0., 0., 0., 0., 0.],\n",
       "       [0., 0., 0., 0., 0.],\n",
       "       [0., 0., 0., 0., 0.]])"
      ]
     },
     "execution_count": 16,
     "metadata": {},
     "output_type": "execute_result"
    }
   ],
   "source": [
    "np.zeros((5,5))"
   ]
  },
  {
   "cell_type": "code",
   "execution_count": 17,
   "id": "4f2c40a6",
   "metadata": {},
   "outputs": [
    {
     "data": {
      "text/plain": [
       "array([[1., 1., 1., 1., 1.],\n",
       "       [1., 1., 1., 1., 1.],\n",
       "       [1., 1., 1., 1., 1.],\n",
       "       [1., 1., 1., 1., 1.],\n",
       "       [1., 1., 1., 1., 1.]])"
      ]
     },
     "execution_count": 17,
     "metadata": {},
     "output_type": "execute_result"
    }
   ],
   "source": [
    "np.ones((5,5))#(row,columns)"
   ]
  },
  {
   "cell_type": "code",
   "execution_count": null,
   "id": "7fa8779f",
   "metadata": {},
   "outputs": [],
   "source": []
  },
  {
   "cell_type": "code",
   "execution_count": null,
   "id": "a4ddc25d",
   "metadata": {},
   "outputs": [],
   "source": [
    "#if you want to add any number "
   ]
  },
  {
   "cell_type": "code",
   "execution_count": 50,
   "id": "451a3c93",
   "metadata": {},
   "outputs": [
    {
     "data": {
      "text/plain": [
       "array([[5., 5., 5., 5., 5.],\n",
       "       [5., 5., 5., 5., 5.],\n",
       "       [5., 5., 5., 5., 5.],\n",
       "       [5., 5., 5., 5., 5.],\n",
       "       [5., 5., 5., 5., 5.]])"
      ]
     },
     "execution_count": 50,
     "metadata": {},
     "output_type": "execute_result"
    }
   ],
   "source": [
    "5*np.ones((5,5))"
   ]
  },
  {
   "cell_type": "code",
   "execution_count": null,
   "id": "70c23da3",
   "metadata": {},
   "outputs": [],
   "source": []
  },
  {
   "cell_type": "code",
   "execution_count": 53,
   "id": "a480880a",
   "metadata": {},
   "outputs": [
    {
     "data": {
      "text/plain": [
       "array([[1., 0., 0., 0., 0.],\n",
       "       [0., 1., 0., 0., 0.],\n",
       "       [0., 0., 1., 0., 0.],\n",
       "       [0., 0., 0., 1., 0.],\n",
       "       [0., 0., 0., 0., 1.]])"
      ]
     },
     "execution_count": 53,
     "metadata": {},
     "output_type": "execute_result"
    }
   ],
   "source": [
    "mat1 = np.eye(5)\n",
    "mat1"
   ]
  },
  {
   "cell_type": "code",
   "execution_count": 54,
   "id": "fe0da3eb",
   "metadata": {},
   "outputs": [
    {
     "data": {
      "text/plain": [
       "array([1. , 1.2, 1.4, 1.6, 1.8])"
      ]
     },
     "execution_count": 54,
     "metadata": {},
     "output_type": "execute_result"
    }
   ],
   "source": []
  },
  {
   "cell_type": "code",
   "execution_count": 62,
   "id": "d2c2731a",
   "metadata": {},
   "outputs": [
    {
     "data": {
      "text/plain": [
       "array([[ 0,  1,  2,  3,  4,  5],\n",
       "       [ 6,  7,  8,  9, 10, 11],\n",
       "       [12, 13, 14, 15, 16, 17],\n",
       "       [18, 19, 20, 21, 22, 23],\n",
       "       [24, 25, 26, 27, 28, 29]])"
      ]
     },
     "execution_count": 62,
     "metadata": {},
     "output_type": "execute_result"
    }
   ],
   "source": [
    "x = np.arange(30).reshape(5,6)\n",
    "x"
   ]
  },
  {
   "cell_type": "code",
   "execution_count": null,
   "id": "9df7b85b",
   "metadata": {},
   "outputs": [],
   "source": []
  },
  {
   "cell_type": "markdown",
   "id": "9abed0b1",
   "metadata": {},
   "source": [
    "# Random Number Genreate"
   ]
  },
  {
   "cell_type": "code",
   "execution_count": null,
   "id": "d64a71f5",
   "metadata": {},
   "outputs": [],
   "source": []
  },
  {
   "cell_type": "markdown",
   "id": "6268a472",
   "metadata": {},
   "source": [
    "# rand"
   ]
  },
  {
   "cell_type": "code",
   "execution_count": 91,
   "id": "75643fda",
   "metadata": {},
   "outputs": [
    {
     "data": {
      "text/plain": [
       "array([[0.73043404, 0.72578032, 0.90927397, 0.35196729, 0.68763518],\n",
       "       [0.50230057, 0.72959949, 0.55705136, 0.94848257, 0.89397129],\n",
       "       [0.47955331, 0.77844777, 0.96672452, 0.03914205, 0.13434188],\n",
       "       [0.2122997 , 0.51691813, 0.47137074, 0.91001536, 0.1092377 ],\n",
       "       [0.41503097, 0.61188728, 0.01164264, 0.20612459, 0.15550971],\n",
       "       [0.4673916 , 0.18298873, 0.28998958, 0.86993801, 0.56117977],\n",
       "       [0.04967697, 0.32215203, 0.28019026, 0.09739247, 0.19447933],\n",
       "       [0.66202725, 0.03871293, 0.79760043, 0.85757499, 0.88168455],\n",
       "       [0.39471047, 0.09871249, 0.21562266, 0.88192139, 0.06984956],\n",
       "       [0.48366261, 0.9257313 , 0.296147  , 0.00151047, 0.86658767]])"
      ]
     },
     "execution_count": 91,
     "metadata": {},
     "output_type": "execute_result"
    }
   ],
   "source": [
    "np.random.rand(10,5)"
   ]
  },
  {
   "cell_type": "code",
   "execution_count": 88,
   "id": "5639c4e4",
   "metadata": {},
   "outputs": [
    {
     "data": {
      "text/plain": [
       "array([[[0.69118189, 0.78743312, 0.91854496],\n",
       "        [0.82191346, 0.38354306, 0.22581857],\n",
       "        [0.74086772, 0.97282848, 0.8147808 ],\n",
       "        [0.72511304, 0.0910327 , 0.20515757],\n",
       "        [0.62064542, 0.1330509 , 0.49513411]]])"
      ]
     },
     "execution_count": 88,
     "metadata": {},
     "output_type": "execute_result"
    }
   ],
   "source": [
    "np.random.rand(1,5,3)"
   ]
  },
  {
   "cell_type": "code",
   "execution_count": null,
   "id": "89d87a95",
   "metadata": {},
   "outputs": [],
   "source": []
  },
  {
   "cell_type": "markdown",
   "id": "63f39883",
   "metadata": {},
   "source": [
    "# randn"
   ]
  },
  {
   "cell_type": "code",
   "execution_count": 89,
   "id": "10f4058c",
   "metadata": {},
   "outputs": [
    {
     "data": {
      "text/plain": [
       "array([[ 0.81334928,  1.10544487, -0.54100619,  0.43920128, -0.59014969]])"
      ]
     },
     "execution_count": 89,
     "metadata": {},
     "output_type": "execute_result"
    }
   ],
   "source": [
    "np.random.randn(1,5)"
   ]
  },
  {
   "cell_type": "code",
   "execution_count": 92,
   "id": "54749e5d",
   "metadata": {},
   "outputs": [
    {
     "data": {
      "text/plain": [
       "array([[ 0.04502373, -0.6398136 , -1.41583647],\n",
       "       [-0.82066017, -0.58583604,  0.41279782],\n",
       "       [ 0.06527103, -1.75528181, -1.39539447],\n",
       "       [ 1.19946035, -0.8534587 , -0.70709033],\n",
       "       [ 0.29879176,  1.96877012, -1.2567001 ]])"
      ]
     },
     "execution_count": 92,
     "metadata": {},
     "output_type": "execute_result"
    }
   ],
   "source": [
    "np.random.randn(5,3)#(row,columns)"
   ]
  },
  {
   "cell_type": "code",
   "execution_count": null,
   "id": "ad2f39f8",
   "metadata": {},
   "outputs": [],
   "source": []
  },
  {
   "cell_type": "code",
   "execution_count": 74,
   "id": "efd64ec3",
   "metadata": {},
   "outputs": [
    {
     "data": {
      "text/plain": [
       "44489"
      ]
     },
     "execution_count": 74,
     "metadata": {},
     "output_type": "execute_result"
    }
   ],
   "source": [
    "OTP = np.random.randint(10000,99999)\n",
    "OTP"
   ]
  },
  {
   "cell_type": "code",
   "execution_count": 106,
   "id": "03ed4773",
   "metadata": {},
   "outputs": [
    {
     "data": {
      "text/plain": [
       "array([[65, 10, 31, 53],\n",
       "       [48, 59, 61, 13],\n",
       "       [29, 24, 34, 82],\n",
       "       [52, 37, 26, 24],\n",
       "       [85, 83, 54, 83],\n",
       "       [73, 38, 96, 59],\n",
       "       [66, 50, 63, 50]])"
      ]
     },
     "execution_count": 106,
     "metadata": {},
     "output_type": "execute_result"
    }
   ],
   "source": [
    "np.random.randint(10,99,(7,4))#(start,end,(row,column))"
   ]
  },
  {
   "cell_type": "code",
   "execution_count": null,
   "id": "f2255fb4",
   "metadata": {},
   "outputs": [],
   "source": []
  },
  {
   "cell_type": "markdown",
   "id": "8cabfd8c",
   "metadata": {},
   "source": [
    "# !reshaping"
   ]
  },
  {
   "cell_type": "code",
   "execution_count": 107,
   "id": "0cd98242",
   "metadata": {},
   "outputs": [],
   "source": [
    "from numpy.random import randint as ri"
   ]
  },
  {
   "cell_type": "code",
   "execution_count": 110,
   "id": "190f22de",
   "metadata": {},
   "outputs": [
    {
     "data": {
      "text/plain": [
       "array([43, 16, 88, 52, 31, 53, 91, 83, 26,  1, 89, 93, 22, 84, 59, 64,  4,\n",
       "       56, 90, 80, 44, 50, 85, 71, 56, 14, 64, 65, 69, 41, 38, 58, 44, 77,\n",
       "       81, 81, 64, 68, 37, 26, 69, 49, 72, 53, 54, 47, 41, 53, 48, 70])"
      ]
     },
     "execution_count": 110,
     "metadata": {},
     "output_type": "execute_result"
    }
   ],
   "source": [
    "rn = ri(1,99,50)\n",
    "rn"
   ]
  },
  {
   "cell_type": "code",
   "execution_count": 113,
   "id": "9ab9203b",
   "metadata": {},
   "outputs": [
    {
     "data": {
      "text/plain": [
       "array([[43, 16, 88, 52, 31],\n",
       "       [53, 91, 83, 26,  1],\n",
       "       [89, 93, 22, 84, 59],\n",
       "       [64,  4, 56, 90, 80],\n",
       "       [44, 50, 85, 71, 56],\n",
       "       [14, 64, 65, 69, 41],\n",
       "       [38, 58, 44, 77, 81],\n",
       "       [81, 64, 68, 37, 26],\n",
       "       [69, 49, 72, 53, 54],\n",
       "       [47, 41, 53, 48, 70]])"
      ]
     },
     "execution_count": 113,
     "metadata": {},
     "output_type": "execute_result"
    }
   ],
   "source": [
    "s = rn.reshape(10,5)\n",
    "s"
   ]
  },
  {
   "cell_type": "code",
   "execution_count": null,
   "id": "95d855ac",
   "metadata": {},
   "outputs": [],
   "source": []
  },
  {
   "cell_type": "markdown",
   "id": "86946aa6",
   "metadata": {},
   "source": [
    "# Sorting"
   ]
  },
  {
   "cell_type": "code",
   "execution_count": 121,
   "id": "c09a0828",
   "metadata": {},
   "outputs": [
    {
     "data": {
      "text/plain": [
       "array([14, 18, 14, 10, 19, 18,  4, 17, 17,  5])"
      ]
     },
     "execution_count": 121,
     "metadata": {},
     "output_type": "execute_result"
    }
   ],
   "source": [
    "n = ri(1,20,10)\n",
    "n"
   ]
  },
  {
   "cell_type": "code",
   "execution_count": 124,
   "id": "688a6388",
   "metadata": {},
   "outputs": [
    {
     "data": {
      "text/plain": [
       "array([ 4,  5, 10, 14, 14, 17, 17, 18, 18, 19])"
      ]
     },
     "execution_count": 124,
     "metadata": {},
     "output_type": "execute_result"
    }
   ],
   "source": [
    "np.sort(n)"
   ]
  },
  {
   "cell_type": "code",
   "execution_count": null,
   "id": "8c906baa",
   "metadata": {},
   "outputs": [],
   "source": []
  },
  {
   "cell_type": "code",
   "execution_count": 125,
   "id": "346a23d1",
   "metadata": {},
   "outputs": [
    {
     "data": {
      "text/plain": [
       "array([[43, 16, 88, 52, 31],\n",
       "       [53, 91, 83, 26,  1],\n",
       "       [89, 93, 22, 84, 59],\n",
       "       [64,  4, 56, 90, 80],\n",
       "       [44, 50, 85, 71, 56],\n",
       "       [14, 64, 65, 69, 41],\n",
       "       [38, 58, 44, 77, 81],\n",
       "       [81, 64, 68, 37, 26],\n",
       "       [69, 49, 72, 53, 54],\n",
       "       [47, 41, 53, 48, 70]])"
      ]
     },
     "execution_count": 125,
     "metadata": {},
     "output_type": "execute_result"
    }
   ],
   "source": [
    "s = rn.reshape(10,5)\n",
    "s"
   ]
  },
  {
   "cell_type": "code",
   "execution_count": 127,
   "id": "21aacf5e",
   "metadata": {},
   "outputs": [
    {
     "data": {
      "text/plain": [
       "array([[16, 31, 43, 52, 88],\n",
       "       [ 1, 26, 53, 83, 91],\n",
       "       [22, 59, 84, 89, 93],\n",
       "       [ 4, 56, 64, 80, 90],\n",
       "       [44, 50, 56, 71, 85],\n",
       "       [14, 41, 64, 65, 69],\n",
       "       [38, 44, 58, 77, 81],\n",
       "       [26, 37, 64, 68, 81],\n",
       "       [49, 53, 54, 69, 72],\n",
       "       [41, 47, 48, 53, 70]])"
      ]
     },
     "execution_count": 127,
     "metadata": {},
     "output_type": "execute_result"
    }
   ],
   "source": [
    "np.sort(s)#short to row "
   ]
  },
  {
   "cell_type": "code",
   "execution_count": null,
   "id": "66cc3397",
   "metadata": {},
   "outputs": [],
   "source": [
    "# if data short in columns"
   ]
  },
  {
   "cell_type": "code",
   "execution_count": 129,
   "id": "56a7a160",
   "metadata": {},
   "outputs": [
    {
     "data": {
      "text/plain": [
       "array([[14,  4, 22, 26,  1],\n",
       "       [38, 16, 44, 37, 26],\n",
       "       [43, 41, 53, 48, 31],\n",
       "       [44, 49, 56, 52, 41],\n",
       "       [47, 50, 65, 53, 54],\n",
       "       [53, 58, 68, 69, 56],\n",
       "       [64, 64, 72, 71, 59],\n",
       "       [69, 64, 83, 77, 70],\n",
       "       [81, 91, 85, 84, 80],\n",
       "       [89, 93, 88, 90, 81]])"
      ]
     },
     "execution_count": 129,
     "metadata": {},
     "output_type": "execute_result"
    }
   ],
   "source": [
    "np.sort(s,axis=0)"
   ]
  },
  {
   "cell_type": "code",
   "execution_count": 132,
   "id": "37a343e9",
   "metadata": {},
   "outputs": [
    {
     "data": {
      "text/plain": [
       "array([[14,  4, 22, 26,  1],\n",
       "       [38, 16, 44, 37, 26],\n",
       "       [43, 41, 53, 48, 31],\n",
       "       [44, 49, 56, 52, 41],\n",
       "       [47, 50, 65, 53, 54],\n",
       "       [53, 58, 68, 69, 56],\n",
       "       [64, 64, 72, 71, 59],\n",
       "       [69, 64, 83, 77, 70],\n",
       "       [81, 91, 85, 84, 80],\n",
       "       [89, 93, 88, 90, 81]])"
      ]
     },
     "execution_count": 132,
     "metadata": {},
     "output_type": "execute_result"
    }
   ],
   "source": [
    "np.sort(s,axis=0,kind='stable')"
   ]
  },
  {
   "cell_type": "code",
   "execution_count": null,
   "id": "c4844806",
   "metadata": {},
   "outputs": [],
   "source": []
  },
  {
   "cell_type": "code",
   "execution_count": 4,
   "id": "9cce40a1",
   "metadata": {},
   "outputs": [
    {
     "data": {
      "text/plain": [
       "array([4, 9, 4, 5, 8])"
      ]
     },
     "execution_count": 4,
     "metadata": {},
     "output_type": "execute_result"
    }
   ],
   "source": [
    "g = ri(1,10,5)\n",
    "g"
   ]
  },
  {
   "cell_type": "code",
   "execution_count": 5,
   "id": "79776d08",
   "metadata": {},
   "outputs": [
    {
     "data": {
      "text/plain": [
       "4"
      ]
     },
     "execution_count": 5,
     "metadata": {},
     "output_type": "execute_result"
    }
   ],
   "source": [
    "g.min()"
   ]
  },
  {
   "cell_type": "code",
   "execution_count": 6,
   "id": "0a5c0c80",
   "metadata": {},
   "outputs": [
    {
     "data": {
      "text/plain": [
       "9"
      ]
     },
     "execution_count": 6,
     "metadata": {},
     "output_type": "execute_result"
    }
   ],
   "source": [
    "g.max()"
   ]
  },
  {
   "cell_type": "code",
   "execution_count": 18,
   "id": "6bad32e9",
   "metadata": {},
   "outputs": [
    {
     "data": {
      "text/plain": [
       "array([[18, 29, 29, 34, 41],\n",
       "       [46, 32, 49,  8, 29],\n",
       "       [16, 35, 14, 47, 47],\n",
       "       [30, 11, 33, 25, 25],\n",
       "       [10, 38, 24, 15, 40],\n",
       "       [ 6,  6, 17, 25, 46],\n",
       "       [17,  8,  3,  5, 28],\n",
       "       [ 4, 28, 25, 46, 37],\n",
       "       [37, 26, 42, 22, 40],\n",
       "       [48,  3,  3, 45, 43]])"
      ]
     },
     "execution_count": 18,
     "metadata": {},
     "output_type": "execute_result"
    }
   ],
   "source": [
    "p = ri(1,50,50).reshape(10,5)\n",
    "p"
   ]
  },
  {
   "cell_type": "code",
   "execution_count": 20,
   "id": "c11c82d6",
   "metadata": {},
   "outputs": [
    {
     "data": {
      "text/plain": [
       "49"
      ]
     },
     "execution_count": 20,
     "metadata": {},
     "output_type": "execute_result"
    }
   ],
   "source": [
    "p.max()"
   ]
  },
  {
   "cell_type": "code",
   "execution_count": null,
   "id": "50e5b9c9",
   "metadata": {},
   "outputs": [],
   "source": []
  },
  {
   "cell_type": "markdown",
   "id": "5302878c",
   "metadata": {},
   "source": [
    "# next class 11sep"
   ]
  },
  {
   "cell_type": "markdown",
   "id": "8a29323e",
   "metadata": {},
   "source": [
    "# row to columns"
   ]
  },
  {
   "cell_type": "code",
   "execution_count": 21,
   "id": "3d27913c",
   "metadata": {},
   "outputs": [],
   "source": [
    "add_col = np.array([[0,1,2,3,4]])"
   ]
  },
  {
   "cell_type": "code",
   "execution_count": 22,
   "id": "02d84618",
   "metadata": {},
   "outputs": [
    {
     "data": {
      "text/plain": [
       "array([[0, 1, 2, 3, 4]])"
      ]
     },
     "execution_count": 22,
     "metadata": {},
     "output_type": "execute_result"
    }
   ],
   "source": [
    "add_col"
   ]
  },
  {
   "cell_type": "code",
   "execution_count": 23,
   "id": "add01f50",
   "metadata": {},
   "outputs": [
    {
     "data": {
      "text/plain": [
       "array([[0],\n",
       "       [1],\n",
       "       [2],\n",
       "       [3],\n",
       "       [4]])"
      ]
     },
     "execution_count": 23,
     "metadata": {},
     "output_type": "execute_result"
    }
   ],
   "source": [
    "add_col.T #row to columns"
   ]
  },
  {
   "cell_type": "code",
   "execution_count": null,
   "id": "d271e3f8",
   "metadata": {},
   "outputs": [],
   "source": []
  },
  {
   "cell_type": "markdown",
   "id": "618154b0",
   "metadata": {},
   "source": [
    "# add to array"
   ]
  },
  {
   "cell_type": "code",
   "execution_count": 27,
   "id": "3e3a9711",
   "metadata": {},
   "outputs": [
    {
     "data": {
      "text/plain": [
       "array([[0., 0., 0.],\n",
       "       [0., 0., 0.],\n",
       "       [0., 0., 0.]])"
      ]
     },
     "execution_count": 27,
     "metadata": {},
     "output_type": "execute_result"
    }
   ],
   "source": [
    "y = np.zeros((3,3))\n",
    "y"
   ]
  },
  {
   "cell_type": "code",
   "execution_count": 29,
   "id": "99a2ddb7",
   "metadata": {},
   "outputs": [
    {
     "data": {
      "text/plain": [
       "array([1, 0, 1])"
      ]
     },
     "execution_count": 29,
     "metadata": {},
     "output_type": "execute_result"
    }
   ],
   "source": [
    "x = np.array([1,0,1])\n",
    "x"
   ]
  },
  {
   "cell_type": "code",
   "execution_count": 31,
   "id": "6cdf3e1f",
   "metadata": {},
   "outputs": [
    {
     "data": {
      "text/plain": [
       "array([[1., 0., 1.],\n",
       "       [1., 0., 1.],\n",
       "       [1., 0., 1.]])"
      ]
     },
     "execution_count": 31,
     "metadata": {},
     "output_type": "execute_result"
    }
   ],
   "source": [
    "y+x"
   ]
  },
  {
   "cell_type": "code",
   "execution_count": null,
   "id": "089b909e",
   "metadata": {},
   "outputs": [],
   "source": []
  },
  {
   "cell_type": "markdown",
   "id": "3ddb25f2",
   "metadata": {},
   "source": [
    "# Array Math"
   ]
  },
  {
   "cell_type": "code",
   "execution_count": 39,
   "id": "72dcbecd",
   "metadata": {},
   "outputs": [
    {
     "data": {
      "text/plain": [
       "array([[8, 5, 7],\n",
       "       [4, 8, 2],\n",
       "       [8, 3, 1]])"
      ]
     },
     "execution_count": 39,
     "metadata": {},
     "output_type": "execute_result"
    }
   ],
   "source": [
    "math1 = np.array(ri(1,10,9)).reshape(3,3)\n",
    "\n",
    "math2 = np.array(ri(1,10,9)).reshape(3,3)\n",
    "math1"
   ]
  },
  {
   "cell_type": "code",
   "execution_count": 40,
   "id": "ad9011a6",
   "metadata": {},
   "outputs": [
    {
     "data": {
      "text/plain": [
       "array([[8, 1, 2],\n",
       "       [4, 5, 7],\n",
       "       [1, 2, 6]])"
      ]
     },
     "execution_count": 40,
     "metadata": {},
     "output_type": "execute_result"
    }
   ],
   "source": [
    "math2"
   ]
  },
  {
   "cell_type": "code",
   "execution_count": 45,
   "id": "e1bf4bb3",
   "metadata": {},
   "outputs": [
    {
     "data": {
      "text/plain": [
       "array([[2.82842712, 2.23606798, 2.64575131],\n",
       "       [2.        , 2.82842712, 1.41421356],\n",
       "       [2.82842712, 1.73205081, 1.        ]])"
      ]
     },
     "execution_count": 45,
     "metadata": {},
     "output_type": "execute_result"
    }
   ],
   "source": [
    "np.sqrt(math1)"
   ]
  },
  {
   "cell_type": "code",
   "execution_count": 47,
   "id": "d25a3015",
   "metadata": {},
   "outputs": [
    {
     "data": {
      "text/plain": [
       "array([[0.90308999, 0.69897   , 0.84509804],\n",
       "       [0.60205999, 0.90308999, 0.30103   ],\n",
       "       [0.90308999, 0.47712125, 0.        ]])"
      ]
     },
     "execution_count": 47,
     "metadata": {},
     "output_type": "execute_result"
    }
   ],
   "source": [
    "np.log10(math1)"
   ]
  },
  {
   "cell_type": "code",
   "execution_count": 51,
   "id": "452cd5f1",
   "metadata": {},
   "outputs": [
    {
     "data": {
      "text/plain": [
       "1.724275869600789"
      ]
     },
     "execution_count": 51,
     "metadata": {},
     "output_type": "execute_result"
    }
   ],
   "source": [
    "np.log10(53)"
   ]
  },
  {
   "cell_type": "code",
   "execution_count": 53,
   "id": "cf981514",
   "metadata": {},
   "outputs": [
    {
     "data": {
      "text/plain": [
       "array([[2.98095799e+03, 1.48413159e+02, 1.09663316e+03],\n",
       "       [5.45981500e+01, 2.98095799e+03, 7.38905610e+00],\n",
       "       [2.98095799e+03, 2.00855369e+01, 2.71828183e+00]])"
      ]
     },
     "execution_count": 53,
     "metadata": {},
     "output_type": "execute_result"
    }
   ],
   "source": [
    "np.exp(math1)"
   ]
  },
  {
   "cell_type": "code",
   "execution_count": null,
   "id": "6b391c9b",
   "metadata": {},
   "outputs": [],
   "source": []
  },
  {
   "cell_type": "code",
   "execution_count": null,
   "id": "8a002028",
   "metadata": {},
   "outputs": [],
   "source": []
  },
  {
   "cell_type": "code",
   "execution_count": null,
   "id": "3b07822a",
   "metadata": {},
   "outputs": [],
   "source": []
  },
  {
   "cell_type": "code",
   "execution_count": null,
   "id": "e5b44c9f",
   "metadata": {},
   "outputs": [],
   "source": []
  },
  {
   "cell_type": "code",
   "execution_count": null,
   "id": "d13981fd",
   "metadata": {},
   "outputs": [],
   "source": []
  },
  {
   "cell_type": "code",
   "execution_count": null,
   "id": "1f0a766f",
   "metadata": {},
   "outputs": [],
   "source": []
  },
  {
   "cell_type": "code",
   "execution_count": null,
   "id": "0519cfb5",
   "metadata": {},
   "outputs": [],
   "source": []
  },
  {
   "cell_type": "code",
   "execution_count": null,
   "id": "be08a948",
   "metadata": {},
   "outputs": [],
   "source": []
  },
  {
   "cell_type": "code",
   "execution_count": null,
   "id": "cfeaa9ee",
   "metadata": {},
   "outputs": [],
   "source": []
  },
  {
   "cell_type": "code",
   "execution_count": null,
   "id": "815eb37a",
   "metadata": {},
   "outputs": [],
   "source": []
  },
  {
   "cell_type": "code",
   "execution_count": null,
   "id": "3ec4b1f6",
   "metadata": {},
   "outputs": [],
   "source": []
  },
  {
   "cell_type": "code",
   "execution_count": null,
   "id": "7469c606",
   "metadata": {},
   "outputs": [],
   "source": []
  },
  {
   "cell_type": "code",
   "execution_count": null,
   "id": "03022a5e",
   "metadata": {},
   "outputs": [],
   "source": []
  }
 ],
 "metadata": {
  "kernelspec": {
   "display_name": "Python 3",
   "language": "python",
   "name": "python3"
  },
  "language_info": {
   "codemirror_mode": {
    "name": "ipython",
    "version": 3
   },
   "file_extension": ".py",
   "mimetype": "text/x-python",
   "name": "python",
   "nbconvert_exporter": "python",
   "pygments_lexer": "ipython3",
   "version": "3.8.8"
  },
  "varInspector": {
   "cols": {
    "lenName": 16,
    "lenType": 16,
    "lenVar": 40
   },
   "kernels_config": {
    "python": {
     "delete_cmd_postfix": "",
     "delete_cmd_prefix": "del ",
     "library": "var_list.py",
     "varRefreshCmd": "print(var_dic_list())"
    },
    "r": {
     "delete_cmd_postfix": ") ",
     "delete_cmd_prefix": "rm(",
     "library": "var_list.r",
     "varRefreshCmd": "cat(var_dic_list()) "
    }
   },
   "types_to_exclude": [
    "module",
    "function",
    "builtin_function_or_method",
    "instance",
    "_Feature"
   ],
   "window_display": false
  }
 },
 "nbformat": 4,
 "nbformat_minor": 5
}
